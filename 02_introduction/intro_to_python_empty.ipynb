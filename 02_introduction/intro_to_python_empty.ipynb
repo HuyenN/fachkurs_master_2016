{
 "metadata": {
  "name": "",
  "signature": "sha256:f35dd8982256d65e39e7d8c4098b3f085b8ace20c541a201c448f991aa8841a5"
 },
 "nbformat": 3,
 "nbformat_minor": 0,
 "worksheets": [
  {
   "cells": [
    {
     "cell_type": "heading",
     "level": 1,
     "metadata": {},
     "source": [
      "Introduction to Python"
     ]
    },
    {
     "cell_type": "markdown",
     "metadata": {},
     "source": [
      "## Why Python?\n",
      "- easy to learn and use\n",
      "- excellent for beginners, yet superb for experts\n",
      "- highly scalable, suitable for large projects as well as small ones\n",
      "- rapid development\n",
      "- portable, cross-platform\n",
      "- powerful standard libs\n",
      "- wealth of 3rd party packages\n",
      "\n",
      "And don't forget that with Python, programming is fun again!"
     ]
    },
    {
     "cell_type": "markdown",
     "metadata": {},
     "source": [
      "<img src=\"http://imgs.xkcd.com/comics/python.png\">"
     ]
    },
    {
     "cell_type": "code",
     "collapsed": false,
     "input": [
      "print \"Hello, world!\""
     ],
     "language": "python",
     "metadata": {},
     "outputs": []
    },
    {
     "cell_type": "code",
     "collapsed": false,
     "input": [
      "print(\"Hello, world!\")"
     ],
     "language": "python",
     "metadata": {},
     "outputs": []
    },
    {
     "cell_type": "markdown",
     "metadata": {},
     "source": [
      "## Python 2 or Python 3?\n",
      "**Short version**: Python 2.x is legacy, Python 3.x is the present and future of the language\n",
      "- final 2.x version 2.7 was released 2010\n",
      "- 3.0 was released in 2008\n",
      "- 3.4 was released 2014\n",
      "- recent standard libraby improvements are only available in 3.x\n",
      "\n",
      "**BUT**:\n",
      "- we are a bit lazy\n",
      "- some third party packages are not (yet) available in Python 3"
     ]
    },
    {
     "cell_type": "markdown",
     "metadata": {},
     "source": [
      "## Software\n",
      "We will use:\n",
      "    - Python (https://www.python.org/)\n",
      "    - IPython (http://ipython.org/)\n",
      "    - IPython Notebook (http://ipython.org/notebook.html)\n",
      "    - an editor of your choice\n",
      "    \n",
      "You could use:\n",
      "    - an IDE (PyCharm, Eclipse)\n",
      "    - Python debuggers (pdb)\n",
      "    - Code checkers (pylint)"
     ]
    },
    {
     "cell_type": "markdown",
     "metadata": {},
     "source": [
      "## Interactive mode\n",
      "Start the python command line interpreter by typing `python`, or the Python interactive shell by typing `ipython` into your terminal.\n",
      "\n",
      "You can use this a calculator:"
     ]
    },
    {
     "cell_type": "code",
     "collapsed": false,
     "input": [],
     "language": "python",
     "metadata": {},
     "outputs": []
    },
    {
     "cell_type": "code",
     "collapsed": false,
     "input": [],
     "language": "python",
     "metadata": {},
     "outputs": []
    },
    {
     "cell_type": "markdown",
     "metadata": {},
     "source": [
      "## Variables"
     ]
    },
    {
     "cell_type": "markdown",
     "metadata": {},
     "source": [
      "You can assign numbers to variables:"
     ]
    },
    {
     "cell_type": "code",
     "collapsed": false,
     "input": [],
     "language": "python",
     "metadata": {},
     "outputs": []
    },
    {
     "cell_type": "markdown",
     "metadata": {},
     "source": [
      "You can change variables:"
     ]
    },
    {
     "cell_type": "code",
     "collapsed": false,
     "input": [],
     "language": "python",
     "metadata": {},
     "outputs": []
    },
    {
     "cell_type": "markdown",
     "metadata": {},
     "source": [
      "### Naming Rules\n",
      "\n",
      "- Variables can only contain letters, numbers, and underscores. Variable names can start with a letter or an underscore, but can not start with a number.\n",
      "- Spaces are not allowed in variable names, so use underscores instead of spaces.\n",
      "- You cannot use Python keywords as variable names. If you absolutely need to, add an underscore to the end.\n",
      "- Variable names should be descriptive, without being too long. For example `mc_wheels` is better than just `wheels` or `number_of_wheels_on_a_motorycle`.\n",
      "- Be careful about using the lowercase letter `l` and the uppercase letters `O` and `I` in places where they could be confused with the numbers 1 and 0. And never use them as single character variable names.\n"
     ]
    },
    {
     "cell_type": "markdown",
     "metadata": {},
     "source": [
      "## Datatypes\n",
      "### Int & Float\n",
      "(Integers and Floating point numbers)"
     ]
    },
    {
     "cell_type": "markdown",
     "metadata": {},
     "source": [
      "You'll have to be careful about the datatype (sometimes)"
     ]
    },
    {
     "cell_type": "code",
     "collapsed": false,
     "input": [],
     "language": "python",
     "metadata": {},
     "outputs": []
    },
    {
     "cell_type": "code",
     "collapsed": false,
     "input": [],
     "language": "python",
     "metadata": {},
     "outputs": []
    },
    {
     "cell_type": "code",
     "collapsed": false,
     "input": [],
     "language": "python",
     "metadata": {},
     "outputs": []
    },
    {
     "cell_type": "markdown",
     "metadata": {},
     "source": [
      "You can convert an `int` to a `float`:"
     ]
    },
    {
     "cell_type": "code",
     "collapsed": false,
     "input": [],
     "language": "python",
     "metadata": {},
     "outputs": []
    },
    {
     "cell_type": "markdown",
     "metadata": {},
     "source": [
      "This kind of type casting works for most datatypes in Python!"
     ]
    },
    {
     "cell_type": "markdown",
     "metadata": {},
     "source": [
      "### String\n",
      "Strings are sets of characters and are either contained in single or double quotes."
     ]
    },
    {
     "cell_type": "code",
     "collapsed": false,
     "input": [],
     "language": "python",
     "metadata": {},
     "outputs": []
    },
    {
     "cell_type": "code",
     "collapsed": false,
     "input": [],
     "language": "python",
     "metadata": {},
     "outputs": []
    },
    {
     "cell_type": "code",
     "collapsed": false,
     "input": [],
     "language": "python",
     "metadata": {},
     "outputs": []
    },
    {
     "cell_type": "markdown",
     "metadata": {},
     "source": [
      "This allows you to make strings that contain quotations."
     ]
    },
    {
     "cell_type": "code",
     "collapsed": false,
     "input": [
      "quote = \"Linus Torvalds once said, 'Any program is only as good as it is useful.'\"\n",
      "print(quote)"
     ],
     "language": "python",
     "metadata": {},
     "outputs": []
    },
    {
     "cell_type": "markdown",
     "metadata": {},
     "source": [
      "Use \\ to continue your command on the next line."
     ]
    },
    {
     "cell_type": "code",
     "collapsed": false,
     "input": [],
     "language": "python",
     "metadata": {},
     "outputs": []
    },
    {
     "cell_type": "markdown",
     "metadata": {},
     "source": [
      "Use `\\n` to put a newline into the string."
     ]
    },
    {
     "cell_type": "code",
     "collapsed": false,
     "input": [],
     "language": "python",
     "metadata": {},
     "outputs": []
    },
    {
     "cell_type": "markdown",
     "metadata": {},
     "source": [
      "Or use multi line strings in triple quotes (either ''' or \"\"\") to do both."
     ]
    },
    {
     "cell_type": "code",
     "collapsed": false,
     "input": [],
     "language": "python",
     "metadata": {},
     "outputs": []
    },
    {
     "cell_type": "markdown",
     "metadata": {},
     "source": [
      "You can concatenate strings:"
     ]
    },
    {
     "cell_type": "code",
     "collapsed": false,
     "input": [],
     "language": "python",
     "metadata": {},
     "outputs": []
    },
    {
     "cell_type": "code",
     "collapsed": false,
     "input": [],
     "language": "python",
     "metadata": {},
     "outputs": []
    },
    {
     "cell_type": "markdown",
     "metadata": {},
     "source": [
      "In Ipython (and Ipython Notebook) you can see all the string functions by tabbing them."
     ]
    },
    {
     "cell_type": "code",
     "collapsed": false,
     "input": [],
     "language": "python",
     "metadata": {},
     "outputs": []
    },
    {
     "cell_type": "code",
     "collapsed": false,
     "input": [],
     "language": "python",
     "metadata": {},
     "outputs": []
    },
    {
     "cell_type": "markdown",
     "metadata": {},
     "source": [
      "### Unicode string\n",
      "Like strings, but with more characters!"
     ]
    },
    {
     "cell_type": "code",
     "collapsed": false,
     "input": [],
     "language": "python",
     "metadata": {},
     "outputs": []
    },
    {
     "cell_type": "code",
     "collapsed": false,
     "input": [],
     "language": "python",
     "metadata": {},
     "outputs": []
    },
    {
     "cell_type": "markdown",
     "metadata": {},
     "source": [
      "Some unicode strings can not be cast to strings."
     ]
    },
    {
     "cell_type": "code",
     "collapsed": false,
     "input": [],
     "language": "python",
     "metadata": {},
     "outputs": []
    },
    {
     "cell_type": "markdown",
     "metadata": {},
     "source": [
      "While most Error messages are easy to understand, it might also be a good idea, to google (or whatever) them. Other questions occuring during programming are also likely to have been asked before (so, google!). Answers on stackoverflow.com are often useful."
     ]
    },
    {
     "cell_type": "markdown",
     "metadata": {},
     "source": [
      "If you absolutely want to convert to string, you can do it like that:"
     ]
    },
    {
     "cell_type": "code",
     "collapsed": false,
     "input": [],
     "language": "python",
     "metadata": {},
     "outputs": []
    },
    {
     "cell_type": "code",
     "collapsed": false,
     "input": [],
     "language": "python",
     "metadata": {},
     "outputs": []
    },
    {
     "cell_type": "markdown",
     "metadata": {},
     "source": [
      "But if you want to make your strings compatible, you should do it the other way round:"
     ]
    },
    {
     "cell_type": "code",
     "collapsed": false,
     "input": [],
     "language": "python",
     "metadata": {},
     "outputs": []
    },
    {
     "cell_type": "markdown",
     "metadata": {},
     "source": [
      "### List\n",
      "There are many compound data types in Python.\n",
      "\n",
      "The most versatile one is a `list`. This is the closest to 'arrays' from other programming languages."
     ]
    },
    {
     "cell_type": "code",
     "collapsed": false,
     "input": [],
     "language": "python",
     "metadata": {},
     "outputs": []
    },
    {
     "cell_type": "markdown",
     "metadata": {},
     "source": [
      "Lists can be indexed and sliced."
     ]
    },
    {
     "cell_type": "code",
     "collapsed": false,
     "input": [],
     "language": "python",
     "metadata": {},
     "outputs": []
    },
    {
     "cell_type": "code",
     "collapsed": false,
     "input": [
      "my_list = my_list + ['more', 'and', 'more', 'words', 'plus', 'a', 'number', 4]\n",
      "my_list"
     ],
     "language": "python",
     "metadata": {},
     "outputs": []
    },
    {
     "cell_type": "code",
     "collapsed": false,
     "input": [],
     "language": "python",
     "metadata": {},
     "outputs": []
    },
    {
     "cell_type": "markdown",
     "metadata": {},
     "source": [
      "The indexing and slicing works for all built-in sequence types. (Also strings!)\n",
      "\n",
      "In a list, you can change elements or slices. (Lists are mutable, strings for example are immutable.)"
     ]
    },
    {
     "cell_type": "code",
     "collapsed": false,
     "input": [],
     "language": "python",
     "metadata": {},
     "outputs": []
    },
    {
     "cell_type": "markdown",
     "metadata": {},
     "source": [
      "You can add new items to the end of the list with the `append()` method:"
     ]
    },
    {
     "cell_type": "code",
     "collapsed": false,
     "input": [],
     "language": "python",
     "metadata": {},
     "outputs": []
    },
    {
     "cell_type": "markdown",
     "metadata": {},
     "source": [
      "You can nest lists:"
     ]
    },
    {
     "cell_type": "code",
     "collapsed": false,
     "input": [
      "nested = [my_list, ['another', 'list']]\n",
      "nested"
     ],
     "language": "python",
     "metadata": {},
     "outputs": []
    },
    {
     "cell_type": "code",
     "collapsed": false,
     "input": [],
     "language": "python",
     "metadata": {},
     "outputs": []
    },
    {
     "cell_type": "markdown",
     "metadata": {},
     "source": [
      "### Set\n",
      "A `set` will not store duplicate entries."
     ]
    },
    {
     "cell_type": "code",
     "collapsed": false,
     "input": [],
     "language": "python",
     "metadata": {},
     "outputs": []
    },
    {
     "cell_type": "markdown",
     "metadata": {},
     "source": [
      "### Membership testing"
     ]
    },
    {
     "cell_type": "code",
     "collapsed": false,
     "input": [],
     "language": "python",
     "metadata": {},
     "outputs": []
    },
    {
     "cell_type": "code",
     "collapsed": false,
     "input": [],
     "language": "python",
     "metadata": {},
     "outputs": []
    },
    {
     "cell_type": "markdown",
     "metadata": {},
     "source": [
      "### Dict\n",
      "A dictionary contains key / value pairs. Instead of the position you use the key as the key."
     ]
    },
    {
     "cell_type": "code",
     "collapsed": false,
     "input": [
      "phonebook = {'Max': 8389, 'Jannis': 8389, 'Thomas': 8325}"
     ],
     "language": "python",
     "metadata": {},
     "outputs": []
    },
    {
     "cell_type": "code",
     "collapsed": false,
     "input": [],
     "language": "python",
     "metadata": {},
     "outputs": []
    },
    {
     "cell_type": "markdown",
     "metadata": {},
     "source": [
      "## More important datatypes\n",
      "### Bool\n",
      "Values: True, False\n",
      "    - []         False\n",
      "    - [a, b]     True\n",
      "    - 0          False\n",
      "    - all other  True"
     ]
    },
    {
     "cell_type": "markdown",
     "metadata": {},
     "source": [
      "### None\n",
      "Values: None\n",
      "- frequently used to represent the absence of a value"
     ]
    },
    {
     "cell_type": "markdown",
     "metadata": {},
     "source": [
      "## Comments"
     ]
    },
    {
     "cell_type": "code",
     "collapsed": false,
     "input": [],
     "language": "python",
     "metadata": {},
     "outputs": []
    },
    {
     "cell_type": "markdown",
     "metadata": {},
     "source": [
      "## if Statements"
     ]
    },
    {
     "cell_type": "code",
     "collapsed": false,
     "input": [],
     "language": "python",
     "metadata": {},
     "outputs": []
    },
    {
     "cell_type": "markdown",
     "metadata": {},
     "source": [
      "If the boolean statement is `True`, the code below is executed."
     ]
    },
    {
     "cell_type": "code",
     "collapsed": false,
     "input": [
      "x = int(raw_input(\"Please enter an integer: \"))  "
     ],
     "language": "python",
     "metadata": {},
     "outputs": []
    },
    {
     "cell_type": "code",
     "collapsed": false,
     "input": [
      "if x < 0:\n",
      "    x = 0\n",
      "    print('Negative changed to zero')\n",
      "elif x == 0:\n",
      "    print('Zero')\n",
      "elif x == 1:\n",
      "    print('Single')\n",
      "else:\n",
      "    print('More')"
     ],
     "language": "python",
     "metadata": {},
     "outputs": []
    },
    {
     "cell_type": "markdown",
     "metadata": {},
     "source": [
      "### Indentation\n",
      "Indentation determines the context of commands."
     ]
    },
    {
     "cell_type": "code",
     "collapsed": false,
     "input": [],
     "language": "python",
     "metadata": {},
     "outputs": []
    },
    {
     "cell_type": "markdown",
     "metadata": {},
     "source": [
      "You should use 4 spaces, not a tab!!\n",
      "\n",
      "If you are presenting your code, be sure the indentation is right!"
     ]
    },
    {
     "cell_type": "markdown",
     "metadata": {},
     "source": [
      "## while Statements"
     ]
    },
    {
     "cell_type": "code",
     "collapsed": false,
     "input": [],
     "language": "python",
     "metadata": {},
     "outputs": []
    },
    {
     "cell_type": "markdown",
     "metadata": {},
     "source": [
      "## for Statements\n",
      "Looping through lists, strings, sets, ..."
     ]
    },
    {
     "cell_type": "code",
     "collapsed": false,
     "input": [],
     "language": "python",
     "metadata": {},
     "outputs": []
    },
    {
     "cell_type": "markdown",
     "metadata": {},
     "source": [
      "## List Comprehensions"
     ]
    },
    {
     "cell_type": "code",
     "collapsed": false,
     "input": [],
     "language": "python",
     "metadata": {},
     "outputs": []
    },
    {
     "cell_type": "markdown",
     "metadata": {},
     "source": [
      "## The range() Function"
     ]
    },
    {
     "cell_type": "code",
     "collapsed": false,
     "input": [],
     "language": "python",
     "metadata": {},
     "outputs": []
    },
    {
     "cell_type": "code",
     "collapsed": false,
     "input": [],
     "language": "python",
     "metadata": {},
     "outputs": []
    },
    {
     "cell_type": "markdown",
     "metadata": {},
     "source": [
      "`range()` is often used in for-loops"
     ]
    },
    {
     "cell_type": "code",
     "collapsed": false,
     "input": [],
     "language": "python",
     "metadata": {},
     "outputs": []
    },
    {
     "cell_type": "markdown",
     "metadata": {},
     "source": [
      "But using `xrange()` is the smarter solution. It does not return a list, but an object generating the numbers on demand. In Python 3, there is only `range()`, but behaving like `xrange()`. So, if you need the list, type `list(range(4))`.\n",
      "\n",
      "And always keep in mind, that you can loop over the elements in a list in an easy, pythonic way. No need to use the indices."
     ]
    },
    {
     "cell_type": "code",
     "collapsed": false,
     "input": [
      "for i in xrange(len(my_list)):   # NOOOO!\n",
      "    print my_list[i]\n",
      "    \n",
      "for element in my_list:          # YES!!\n",
      "    print element"
     ],
     "language": "python",
     "metadata": {},
     "outputs": []
    },
    {
     "cell_type": "markdown",
     "metadata": {},
     "source": [
      "## break and continue Statements, and else Clauses on Loops\n",
      "The `break` statement, like in C,  breaks out of the smallest enclosing for or while loop.\n",
      "\n",
      "Loop statements may have an else clause; it is executed when the loop terminates through exhaustion of the list (with for) or when the condition becomes false (with while), but not when the loop is terminated by a break statement."
     ]
    },
    {
     "cell_type": "code",
     "collapsed": false,
     "input": [
      "for n in range(2, 10):\n",
      "    for x in range(2, n):\n",
      "        if n % x == 0:\n",
      "            print n, 'equals', x, '*', n/x\n",
      "            break\n",
      "    else:\n",
      "        # loop fell through without finding a factor\n",
      "        print n, 'is a prime number'"
     ],
     "language": "python",
     "metadata": {},
     "outputs": []
    },
    {
     "cell_type": "markdown",
     "metadata": {},
     "source": [
      "The `continue` statement, also borrowed from C, continues with the next iteration of the loop:"
     ]
    },
    {
     "cell_type": "code",
     "collapsed": false,
     "input": [
      "for num in range(2, 10):\n",
      "    if num % 2 == 0:\n",
      "        print \"Found an even number\", num\n",
      "        continue\n",
      "    print \"Found a number\", num"
     ],
     "language": "python",
     "metadata": {},
     "outputs": []
    },
    {
     "cell_type": "markdown",
     "metadata": {},
     "source": [
      "## pass Statements\n",
      "It will do nothing!"
     ]
    },
    {
     "cell_type": "code",
     "collapsed": false,
     "input": [
      "x = int(raw_input(\"Please enter an integer: \"))  "
     ],
     "language": "python",
     "metadata": {},
     "outputs": []
    },
    {
     "cell_type": "code",
     "collapsed": false,
     "input": [
      "if x < 0:\n",
      "    pass\n",
      "elif x == 42:\n",
      "    pass  # TODO must fill the answer to life, the universe, and everything here later\n",
      "else:\n",
      "    print('More') "
     ],
     "language": "python",
     "metadata": {},
     "outputs": []
    },
    {
     "cell_type": "markdown",
     "metadata": {},
     "source": [
      "## Functions\n",
      "### Definition Syntax"
     ]
    },
    {
     "cell_type": "code",
     "collapsed": false,
     "input": [],
     "language": "python",
     "metadata": {},
     "outputs": []
    },
    {
     "cell_type": "markdown",
     "metadata": {},
     "source": [
      "The keyword `def` introduces a function definition. It has to be followed by the function name and the paranthesized list of formal parameters."
     ]
    },
    {
     "cell_type": "markdown",
     "metadata": {},
     "source": [
      "### Documentation strings\n",
      "You should put a triple quoted string into the first line after the function definition, containing a description of the function. This is called docstring, and can be used to automatically produce documentation."
     ]
    },
    {
     "cell_type": "markdown",
     "metadata": {},
     "source": [
      "## The return statement\n",
      "\n",
      "It is simple to write a function that returns a list of the numbers of the Fibonacci series, instead of printing it:"
     ]
    },
    {
     "cell_type": "code",
     "collapsed": false,
     "input": [],
     "language": "python",
     "metadata": {},
     "outputs": []
    },
    {
     "cell_type": "markdown",
     "metadata": {},
     "source": [
      "The `return` statement returns with a value from a function. `return` without an expression argument returns `None`. Falling off the end of a function also returns `None`."
     ]
    },
    {
     "cell_type": "markdown",
     "metadata": {},
     "source": [
      "### Default Argument Values and Keyword Arguments"
     ]
    },
    {
     "cell_type": "code",
     "collapsed": false,
     "input": [
      "def parrot(voltage, state='a stiff', action='voom', type_='Norwegian Blue'):\n",
      "    print \"-- This parrot wouldn't\", action,\n",
      "    print \"if you put\", voltage, \"volts through it.\"\n",
      "    print \"-- Lovely plumage, the\", type_\n",
      "    print \"-- It's\", state, \"!\"\n",
      "    \n"
     ],
     "language": "python",
     "metadata": {},
     "outputs": []
    },
    {
     "cell_type": "markdown",
     "metadata": {},
     "source": [
      "`state`, `action`, and `type_` have default values, so they can be omitted from the function call."
     ]
    },
    {
     "cell_type": "code",
     "collapsed": false,
     "input": [],
     "language": "python",
     "metadata": {},
     "outputs": []
    },
    {
     "cell_type": "markdown",
     "metadata": {},
     "source": [
      "You can call the function using keyword arguments, positional arguments, or mix both."
     ]
    },
    {
     "cell_type": "code",
     "collapsed": false,
     "input": [],
     "language": "python",
     "metadata": {},
     "outputs": []
    },
    {
     "cell_type": "code",
     "collapsed": false,
     "input": [],
     "language": "python",
     "metadata": {},
     "outputs": []
    },
    {
     "cell_type": "markdown",
     "metadata": {},
     "source": [
      "The sentences are actually from a Monty Pythons episode. You can watch it later: https://www.youtube.com/watch?v=4vuW6tQ0218"
     ]
    },
    {
     "cell_type": "markdown",
     "metadata": {},
     "source": [
      "## Handling exceptions\n",
      "\n",
      "You have seen error messages by now. Errors detected during excution are called exceptions and can be handled. Just as a reminder, error messages look like this: "
     ]
    },
    {
     "cell_type": "code",
     "collapsed": false,
     "input": [],
     "language": "python",
     "metadata": {},
     "outputs": []
    },
    {
     "cell_type": "markdown",
     "metadata": {},
     "source": [
      "Exceptions come in different types, which are given in the message. The type of this exception is `IndexError`. \n",
      "\n",
      "So, let's handle that exception!"
     ]
    },
    {
     "cell_type": "code",
     "collapsed": false,
     "input": [],
     "language": "python",
     "metadata": {},
     "outputs": []
    },
    {
     "cell_type": "code",
     "collapsed": false,
     "input": [],
     "language": "python",
     "metadata": {},
     "outputs": []
    },
    {
     "cell_type": "markdown",
     "metadata": {},
     "source": [
      " "
     ]
    },
    {
     "cell_type": "markdown",
     "metadata": {},
     "source": [
      "## Coding style\n",
      "\n",
      "***\u201cThe best programs are written so that computing machines can perform them quickly and so that human beings can understand them clearly.\" - Donald E. Knuth, Selected Papers on Computer Science ***"
     ]
    },
    {
     "cell_type": "markdown",
     "metadata": {},
     "source": [
      "## PEP8\n",
      "Style guide for Python code\n",
      "\n",
      "A style guide is about consistency. Consistency with this style guide is important. Consistency within a project is more important. Consistency within one module or function is most important. \n",
      "\n",
      "### A few rules\n",
      "- never use tabs, always 4 spaces\n",
      "- try to limit lines to 79 characters\n",
      "- use whitespace to make your code more readable"
     ]
    },
    {
     "cell_type": "code",
     "collapsed": false,
     "input": [
      "spam(ham[1], {eggs: 2})        # YES!\n",
      "spam( ham[ 1 ], { eggs: 2 } )  # NO!!\n",
      "\n",
      "x, y = y, x     # YES!\n",
      "x , y = y , x   # NO!!\n",
      "\n",
      "counter = counter + 1  # YES!\n",
      "counter=counter+1      # NO!!\n",
      "\n",
      "result = add(x+1, 3)   # YES!\n",
      "result = add(x + 1, 3) # YES!\n",
      "\n",
      "\n",
      "def complex(real, imag=0.0):         # YES!\n",
      "    return magic(r=real, i=imag)\n",
      "\n",
      "def complex(real, imag = 0.0):       # NO!!\n",
      "    return magic(r = real, i = imag)"
     ],
     "language": "python",
     "metadata": {},
     "outputs": []
    },
    {
     "cell_type": "markdown",
     "metadata": {},
     "source": [
      "- Follow these naming conventions:\n",
      "    - lower_case_under for variables and functions and methods\n",
      "    - WordCap for classes\n",
      "    - ALL_CAPS for constants\n",
      "\n",
      "And of course, there is more: https://www.python.org/dev/peps/pep-0008/"
     ]
    },
    {
     "cell_type": "markdown",
     "metadata": {},
     "source": [
      "## The Zen of Python"
     ]
    },
    {
     "cell_type": "code",
     "collapsed": false,
     "input": [],
     "language": "python",
     "metadata": {},
     "outputs": []
    }
   ],
   "metadata": {}
  }
 ]
}